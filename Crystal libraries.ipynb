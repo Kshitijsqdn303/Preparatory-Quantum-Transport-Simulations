{
 "cells": [
  {
   "cell_type": "code",
   "execution_count": 4,
   "id": "b7a5eff1",
   "metadata": {},
   "outputs": [
    {
     "data": {
      "application/vnd.jupyter.widget-view+json": {
       "model_id": "fcd4e572a31942f09aedf8cb9d9559dd",
       "version_major": 2,
       "version_minor": 0
      },
      "text/plain": [
       "NGLWidget()"
      ]
     },
     "metadata": {},
     "output_type": "display_data"
    }
   ],
   "source": [
    "from ase import Atoms\n",
    "from ase.build import make_supercell\n",
    "import nglview as nv\n",
    "import numpy as np\n",
    "\n",
    "# Lattice constant\n",
    "a = 5.65\n",
    "\n",
    "# Define GaAs unit cell\n",
    "symbols = ['Ga', 'As']\n",
    "fractional_positions = [\n",
    "    (0.00, 0.00, 0.00),  # Ga\n",
    "    (0.25, 0.25, 0.25),  # As\n",
    "]\n",
    "cartesian_positions = np.dot(fractional_positions, np.array([\n",
    "    [a, 0, 0],\n",
    "    [0, a, 0],\n",
    "    [0, 0, a]\n",
    "]))\n",
    "unitcell = Atoms(symbols=symbols,\n",
    "                 positions=cartesian_positions,\n",
    "                 cell=[a, a, a],\n",
    "                 pbc=True)\n",
    "\n",
    "# Make a 3x3x3 supercell\n",
    "P = np.diag([3, 3, 3])  # replication matrix\n",
    "supercell = make_supercell(unitcell, P)\n",
    "\n",
    "# Visualize\n",
    "nv.show_ase(supercell)\n",
    "\n"
   ]
  },
  {
   "cell_type": "code",
   "execution_count": 6,
   "id": "1f2b444b",
   "metadata": {},
   "outputs": [
    {
     "data": {
      "application/vnd.jupyter.widget-view+json": {
       "model_id": "8721d136bfae493492e9dfa0e2ab93bd",
       "version_major": 2,
       "version_minor": 0
      },
      "text/plain": [
       "NGLWidget()"
      ]
     },
     "metadata": {},
     "output_type": "display_data"
    }
   ],
   "source": [
    "from ase.build import bulk\n",
    "import nglview as nv\n",
    "\n",
    "# Create GaAs zinc blende structure\n",
    "gaas = bulk('GaAs', crystalstructure='zincblende', a=5.65, cubic=True)\n",
    "\n",
    "# View interactively with visible bonds\n",
    "nv.show_ase(gaas)\n"
   ]
  },
  {
   "cell_type": "code",
   "execution_count": 8,
   "id": "de94b142",
   "metadata": {},
   "outputs": [
    {
     "data": {
      "application/vnd.jupyter.widget-view+json": {
       "model_id": "e6dcc898d30148c2a80e31eb958e7153",
       "version_major": 2,
       "version_minor": 0
      },
      "text/plain": [
       "NGLWidget()"
      ]
     },
     "metadata": {},
     "output_type": "display_data"
    }
   ],
   "source": [
    "from ase.build import bulk\n",
    "from ase.build import make_supercell\n",
    "import nglview as nv\n",
    "import numpy as np\n",
    "\n",
    "# Build unit cell\n",
    "gaas = bulk('GaAs', crystalstructure='zincblende', a=5.65, cubic=True)\n",
    "\n",
    "# Replicate to get 2×2×2 supercell\n",
    "supercell = make_supercell(gaas, np.diag([2, 2, 2]))\n",
    "\n",
    "# Visualize\n",
    "nv.show_ase(supercell)\n"
   ]
  },
  {
   "cell_type": "code",
   "execution_count": 15,
   "id": "c7a1bcc0",
   "metadata": {},
   "outputs": [
    {
     "data": {
      "application/vnd.jupyter.widget-view+json": {
       "model_id": "1b6c95a849de458b80c2d83728b04702",
       "version_major": 2,
       "version_minor": 0
      },
      "text/plain": [
       "NGLWidget()"
      ]
     },
     "metadata": {},
     "output_type": "display_data"
    }
   ],
   "source": [
    "import numpy as np\n",
    "from ase import Atoms\n",
    "from ase.build import bulk\n",
    "import nglview as nv\n",
    "\n",
    "# Step 1: Create GaAs structure\n",
    "a = 5.65\n",
    "gaas = bulk('GaAs', 'zincblende', a=a, cubic=True)\n",
    "\n",
    "# Step 2: Define corners of the unit cell\n",
    "a1, a2, a3 = gaas.cell[0], gaas.cell[1], gaas.cell[2]\n",
    "origin = np.array([0, 0, 0])\n",
    "corners = [\n",
    "    origin,\n",
    "    a1, a2, a3,\n",
    "    a1 + a2, a1 + a3, a2 + a3,\n",
    "    a1 + a2 + a3\n",
    "]\n",
    "corners = np.array(corners)\n",
    "\n",
    "# Step 3: Add dummy atoms at corners (H = hydrogen, only for visual tags)\n",
    "box_atoms = Atoms(\n",
    "    symbols=['H'] * 8,\n",
    "    positions=corners,\n",
    "    cell=gaas.cell,\n",
    "    pbc=True\n",
    ")\n",
    "\n",
    "# Step 4: Combine GaAs + dummy corner atoms\n",
    "combined = gaas + box_atoms\n",
    "\n",
    "# Step 5: Define edges of the unit cell box\n",
    "corner_offset = len(gaas)  # because corner atoms come after\n",
    "edges = [\n",
    "    (0,1), (0,2), (0,3),\n",
    "    (1,4), (1,5),\n",
    "    (2,4), (2,6),\n",
    "    (3,5), (3,6),\n",
    "    (4,7), (5,7), (6,7)\n",
    "]\n",
    "bonds = [(i + corner_offset, j + corner_offset) for i, j in edges]\n",
    "\n",
    "# Step 6: Set up nglview viewer\n",
    "view = nv.show_ase(combined)\n",
    "view.clear_representations()\n",
    "view.add_ball_and_stick()\n",
    "view.add_unitcell()\n",
    "\n",
    "# Step 7: Add unit cell edges as cylinders (gray thin lines)\n",
    "for i, j in bonds:\n",
    "    start = combined[i].position.tolist()\n",
    "    end = combined[j].position.tolist()\n",
    "    view.shape.add_cylinder(start, end)\n",
    "\n",
    "view\n",
    "\n"
   ]
  },
  {
   "cell_type": "code",
   "execution_count": 17,
   "id": "4af74b6f",
   "metadata": {},
   "outputs": [
    {
     "data": {
      "application/3dmoljs_load.v0": "<div id=\"3dmolviewer_17506824260898507\"  style=\"position: relative; width: 800px; height: 800px;\">\n        <p id=\"3dmolwarning_17506824260898507\" style=\"background-color:#ffcccc;color:black\">3Dmol.js failed to load for some reason.  Please check your browser console for error messages.<br></p>\n        </div>\n<script>\n\nvar loadScriptAsync = function(uri){\n  return new Promise((resolve, reject) => {\n    //this is to ignore the existence of requirejs amd\n    var savedexports, savedmodule;\n    if (typeof exports !== 'undefined') savedexports = exports;\n    else exports = {}\n    if (typeof module !== 'undefined') savedmodule = module;\n    else module = {}\n\n    var tag = document.createElement('script');\n    tag.src = uri;\n    tag.async = true;\n    tag.onload = () => {\n        exports = savedexports;\n        module = savedmodule;\n        resolve();\n    };\n  var firstScriptTag = document.getElementsByTagName('script')[0];\n  firstScriptTag.parentNode.insertBefore(tag, firstScriptTag);\n});\n};\n\nif(typeof $3Dmolpromise === 'undefined') {\n$3Dmolpromise = null;\n  $3Dmolpromise = loadScriptAsync('https://cdn.jsdelivr.net/npm/3dmol@2.5.0/build/3Dmol-min.js');\n}\n\nvar viewer_17506824260898507 = null;\nvar warn = document.getElementById(\"3dmolwarning_17506824260898507\");\nif(warn) {\n    warn.parentNode.removeChild(warn);\n}\n$3Dmolpromise.then(function() {\nviewer_17506824260898507 = $3Dmol.createViewer(document.getElementById(\"3dmolviewer_17506824260898507\"),{backgroundColor:\"white\"});\nviewer_17506824260898507.zoomTo();\n\tviewer_17506824260898507.addModel(\"data_image0\\r\\n_chemical_formula_structural       Ga4As4Ga4As4Ga4As4Ga4As4Ga4As4Ga4As4Ga4As4Ga4As4\\r\\n_chemical_formula_sum              \\\"Ga32 As32\\\"\\r\\n_cell_length_a       11.3\\r\\n_cell_length_b       11.3\\r\\n_cell_length_c       11.3\\r\\n_cell_angle_alpha    90.0\\r\\n_cell_angle_beta     90.0\\r\\n_cell_angle_gamma    90.0\\r\\n\\r\\n_space_group_name_H-M_alt    \\\"P 1\\\"\\r\\n_space_group_IT_number       1\\r\\n\\r\\nloop_\\r\\n  _space_group_symop_operation_xyz\\r\\n  'x, y, z'\\r\\n\\r\\nloop_\\r\\n  _atom_site_type_symbol\\r\\n  _atom_site_label\\r\\n  _atom_site_symmetry_multiplicity\\r\\n  _atom_site_fract_x\\r\\n  _atom_site_fract_y\\r\\n  _atom_site_fract_z\\r\\n  _atom_site_occupancy\\r\\n  Ga  Ga1       1.0  0.0  0.0  0.0  1.0000\\r\\n  Ga  Ga2       1.0  0.25  0.0  0.25  1.0000\\r\\n  Ga  Ga3       1.0  0.0  0.25  0.25  1.0000\\r\\n  Ga  Ga4       1.0  0.25  0.25  0.0  1.0000\\r\\n  As  As1       1.0  0.125  0.125  0.125  1.0000\\r\\n  As  As2       1.0  0.37500000000000006  0.125  0.37500000000000006  1.0000\\r\\n  As  As3       1.0  0.125  0.37500000000000006  0.37500000000000006  1.0000\\r\\n  As  As4       1.0  0.37500000000000006  0.37500000000000006  0.125  1.0000\\r\\n  Ga  Ga5       1.0  0.0  0.0  0.49999999999999994  1.0000\\r\\n  Ga  Ga6       1.0  0.25  0.0  0.7500000000000001  1.0000\\r\\n  Ga  Ga7       1.0  0.0  0.25  0.7500000000000001  1.0000\\r\\n  Ga  Ga8       1.0  0.25  0.25  0.49999999999999994  1.0000\\r\\n  As  As5       1.0  0.125  0.125  0.625  1.0000\\r\\n  As  As6       1.0  0.37500000000000006  0.125  0.875  1.0000\\r\\n  As  As7       1.0  0.125  0.37500000000000006  0.875  1.0000\\r\\n  As  As8       1.0  0.37500000000000006  0.37500000000000006  0.625  1.0000\\r\\n  Ga  Ga9       1.0  0.0  0.49999999999999994  0.0  1.0000\\r\\n  Ga  Ga10      1.0  0.25  0.49999999999999994  0.25  1.0000\\r\\n  Ga  Ga11      1.0  0.0  0.7500000000000001  0.25  1.0000\\r\\n  Ga  Ga12      1.0  0.25  0.7500000000000001  0.0  1.0000\\r\\n  As  As9       1.0  0.125  0.625  0.125  1.0000\\r\\n  As  As10      1.0  0.37500000000000006  0.625  0.37500000000000006  1.0000\\r\\n  As  As11      1.0  0.125  0.875  0.37500000000000006  1.0000\\r\\n  As  As12      1.0  0.37500000000000006  0.875  0.125  1.0000\\r\\n  Ga  Ga13      1.0  0.0  0.49999999999999994  0.49999999999999994  1.0000\\r\\n  Ga  Ga14      1.0  0.25  0.49999999999999994  0.7500000000000001  1.0000\\r\\n  Ga  Ga15      1.0  0.0  0.7500000000000001  0.7500000000000001  1.0000\\r\\n  Ga  Ga16      1.0  0.25  0.7500000000000001  0.49999999999999994  1.0000\\r\\n  As  As13      1.0  0.125  0.625  0.625  1.0000\\r\\n  As  As14      1.0  0.37500000000000006  0.625  0.875  1.0000\\r\\n  As  As15      1.0  0.125  0.875  0.875  1.0000\\r\\n  As  As16      1.0  0.37500000000000006  0.875  0.625  1.0000\\r\\n  Ga  Ga17      1.0  0.49999999999999994  0.0  0.0  1.0000\\r\\n  Ga  Ga18      1.0  0.7500000000000001  0.0  0.25  1.0000\\r\\n  Ga  Ga19      1.0  0.49999999999999994  0.25  0.25  1.0000\\r\\n  Ga  Ga20      1.0  0.7500000000000001  0.25  0.0  1.0000\\r\\n  As  As17      1.0  0.625  0.125  0.125  1.0000\\r\\n  As  As18      1.0  0.875  0.125  0.37500000000000006  1.0000\\r\\n  As  As19      1.0  0.625  0.37500000000000006  0.37500000000000006  1.0000\\r\\n  As  As20      1.0  0.875  0.37500000000000006  0.125  1.0000\\r\\n  Ga  Ga21      1.0  0.49999999999999994  0.0  0.49999999999999994  1.0000\\r\\n  Ga  Ga22      1.0  0.7500000000000001  0.0  0.7500000000000001  1.0000\\r\\n  Ga  Ga23      1.0  0.49999999999999994  0.25  0.7500000000000001  1.0000\\r\\n  Ga  Ga24      1.0  0.7500000000000001  0.25  0.49999999999999994  1.0000\\r\\n  As  As21      1.0  0.625  0.125  0.625  1.0000\\r\\n  As  As22      1.0  0.875  0.125  0.875  1.0000\\r\\n  As  As23      1.0  0.625  0.37500000000000006  0.875  1.0000\\r\\n  As  As24      1.0  0.875  0.37500000000000006  0.625  1.0000\\r\\n  Ga  Ga25      1.0  0.49999999999999994  0.49999999999999994  0.0  1.0000\\r\\n  Ga  Ga26      1.0  0.7500000000000001  0.49999999999999994  0.25  1.0000\\r\\n  Ga  Ga27      1.0  0.49999999999999994  0.7500000000000001  0.25  1.0000\\r\\n  Ga  Ga28      1.0  0.7500000000000001  0.7500000000000001  0.0  1.0000\\r\\n  As  As25      1.0  0.625  0.625  0.125  1.0000\\r\\n  As  As26      1.0  0.875  0.625  0.37500000000000006  1.0000\\r\\n  As  As27      1.0  0.625  0.875  0.37500000000000006  1.0000\\r\\n  As  As28      1.0  0.875  0.875  0.125  1.0000\\r\\n  Ga  Ga29      1.0  0.49999999999999994  0.49999999999999994  0.49999999999999994  1.0000\\r\\n  Ga  Ga30      1.0  0.7500000000000001  0.49999999999999994  0.7500000000000001  1.0000\\r\\n  Ga  Ga31      1.0  0.49999999999999994  0.7500000000000001  0.7500000000000001  1.0000\\r\\n  Ga  Ga32      1.0  0.7500000000000001  0.7500000000000001  0.49999999999999994  1.0000\\r\\n  As  As29      1.0  0.625  0.625  0.625  1.0000\\r\\n  As  As30      1.0  0.875  0.625  0.875  1.0000\\r\\n  As  As31      1.0  0.625  0.875  0.875  1.0000\\r\\n  As  As32      1.0  0.875  0.875  0.625  1.0000\\r\\n\",\"cif\");\n\tviewer_17506824260898507.setStyle({\"elem\": \"Ga\"},{\"sphere\": {\"scale\": 0.25, \"color\": \"orange\"}, \"stick\": {\"radius\": 0.12, \"color\": \"orange\"}});\n\tviewer_17506824260898507.setStyle({\"elem\": \"As\"},{\"sphere\": {\"scale\": 0.25, \"color\": \"purple\"}, \"stick\": {\"radius\": 0.12, \"color\": \"purple\"}});\n\tviewer_17506824260898507.addModel(\"8\\nBox\\nH 0.000 0.000 0.000\\nH 5.650 0.000 0.000\\nH 5.650 5.650 0.000\\nH 0.000 5.650 0.000\\nH 0.000 0.000 5.650\\nH 5.650 0.000 5.650\\nH 5.650 5.650 5.650\\nH 0.000 5.650 5.650\",\"xyz\");\n\tviewer_17506824260898507.setStyle({\"model\": 1},{\"stick\": {\"radius\": 0.05, \"color\": \"gray\"}});\n\tviewer_17506824260898507.setBackgroundColor(\"white\");\n\tviewer_17506824260898507.zoomTo();\nviewer_17506824260898507.render();\n});\n</script>",
      "text/html": [
       "<div id=\"3dmolviewer_17506824260898507\"  style=\"position: relative; width: 800px; height: 800px;\">\n",
       "        <p id=\"3dmolwarning_17506824260898507\" style=\"background-color:#ffcccc;color:black\">3Dmol.js failed to load for some reason.  Please check your browser console for error messages.<br></p>\n",
       "        </div>\n",
       "<script>\n",
       "\n",
       "var loadScriptAsync = function(uri){\n",
       "  return new Promise((resolve, reject) => {\n",
       "    //this is to ignore the existence of requirejs amd\n",
       "    var savedexports, savedmodule;\n",
       "    if (typeof exports !== 'undefined') savedexports = exports;\n",
       "    else exports = {}\n",
       "    if (typeof module !== 'undefined') savedmodule = module;\n",
       "    else module = {}\n",
       "\n",
       "    var tag = document.createElement('script');\n",
       "    tag.src = uri;\n",
       "    tag.async = true;\n",
       "    tag.onload = () => {\n",
       "        exports = savedexports;\n",
       "        module = savedmodule;\n",
       "        resolve();\n",
       "    };\n",
       "  var firstScriptTag = document.getElementsByTagName('script')[0];\n",
       "  firstScriptTag.parentNode.insertBefore(tag, firstScriptTag);\n",
       "});\n",
       "};\n",
       "\n",
       "if(typeof $3Dmolpromise === 'undefined') {\n",
       "$3Dmolpromise = null;\n",
       "  $3Dmolpromise = loadScriptAsync('https://cdn.jsdelivr.net/npm/3dmol@2.5.0/build/3Dmol-min.js');\n",
       "}\n",
       "\n",
       "var viewer_17506824260898507 = null;\n",
       "var warn = document.getElementById(\"3dmolwarning_17506824260898507\");\n",
       "if(warn) {\n",
       "    warn.parentNode.removeChild(warn);\n",
       "}\n",
       "$3Dmolpromise.then(function() {\n",
       "viewer_17506824260898507 = $3Dmol.createViewer(document.getElementById(\"3dmolviewer_17506824260898507\"),{backgroundColor:\"white\"});\n",
       "viewer_17506824260898507.zoomTo();\n",
       "\tviewer_17506824260898507.addModel(\"data_image0\\r\\n_chemical_formula_structural       Ga4As4Ga4As4Ga4As4Ga4As4Ga4As4Ga4As4Ga4As4Ga4As4\\r\\n_chemical_formula_sum              \\\"Ga32 As32\\\"\\r\\n_cell_length_a       11.3\\r\\n_cell_length_b       11.3\\r\\n_cell_length_c       11.3\\r\\n_cell_angle_alpha    90.0\\r\\n_cell_angle_beta     90.0\\r\\n_cell_angle_gamma    90.0\\r\\n\\r\\n_space_group_name_H-M_alt    \\\"P 1\\\"\\r\\n_space_group_IT_number       1\\r\\n\\r\\nloop_\\r\\n  _space_group_symop_operation_xyz\\r\\n  'x, y, z'\\r\\n\\r\\nloop_\\r\\n  _atom_site_type_symbol\\r\\n  _atom_site_label\\r\\n  _atom_site_symmetry_multiplicity\\r\\n  _atom_site_fract_x\\r\\n  _atom_site_fract_y\\r\\n  _atom_site_fract_z\\r\\n  _atom_site_occupancy\\r\\n  Ga  Ga1       1.0  0.0  0.0  0.0  1.0000\\r\\n  Ga  Ga2       1.0  0.25  0.0  0.25  1.0000\\r\\n  Ga  Ga3       1.0  0.0  0.25  0.25  1.0000\\r\\n  Ga  Ga4       1.0  0.25  0.25  0.0  1.0000\\r\\n  As  As1       1.0  0.125  0.125  0.125  1.0000\\r\\n  As  As2       1.0  0.37500000000000006  0.125  0.37500000000000006  1.0000\\r\\n  As  As3       1.0  0.125  0.37500000000000006  0.37500000000000006  1.0000\\r\\n  As  As4       1.0  0.37500000000000006  0.37500000000000006  0.125  1.0000\\r\\n  Ga  Ga5       1.0  0.0  0.0  0.49999999999999994  1.0000\\r\\n  Ga  Ga6       1.0  0.25  0.0  0.7500000000000001  1.0000\\r\\n  Ga  Ga7       1.0  0.0  0.25  0.7500000000000001  1.0000\\r\\n  Ga  Ga8       1.0  0.25  0.25  0.49999999999999994  1.0000\\r\\n  As  As5       1.0  0.125  0.125  0.625  1.0000\\r\\n  As  As6       1.0  0.37500000000000006  0.125  0.875  1.0000\\r\\n  As  As7       1.0  0.125  0.37500000000000006  0.875  1.0000\\r\\n  As  As8       1.0  0.37500000000000006  0.37500000000000006  0.625  1.0000\\r\\n  Ga  Ga9       1.0  0.0  0.49999999999999994  0.0  1.0000\\r\\n  Ga  Ga10      1.0  0.25  0.49999999999999994  0.25  1.0000\\r\\n  Ga  Ga11      1.0  0.0  0.7500000000000001  0.25  1.0000\\r\\n  Ga  Ga12      1.0  0.25  0.7500000000000001  0.0  1.0000\\r\\n  As  As9       1.0  0.125  0.625  0.125  1.0000\\r\\n  As  As10      1.0  0.37500000000000006  0.625  0.37500000000000006  1.0000\\r\\n  As  As11      1.0  0.125  0.875  0.37500000000000006  1.0000\\r\\n  As  As12      1.0  0.37500000000000006  0.875  0.125  1.0000\\r\\n  Ga  Ga13      1.0  0.0  0.49999999999999994  0.49999999999999994  1.0000\\r\\n  Ga  Ga14      1.0  0.25  0.49999999999999994  0.7500000000000001  1.0000\\r\\n  Ga  Ga15      1.0  0.0  0.7500000000000001  0.7500000000000001  1.0000\\r\\n  Ga  Ga16      1.0  0.25  0.7500000000000001  0.49999999999999994  1.0000\\r\\n  As  As13      1.0  0.125  0.625  0.625  1.0000\\r\\n  As  As14      1.0  0.37500000000000006  0.625  0.875  1.0000\\r\\n  As  As15      1.0  0.125  0.875  0.875  1.0000\\r\\n  As  As16      1.0  0.37500000000000006  0.875  0.625  1.0000\\r\\n  Ga  Ga17      1.0  0.49999999999999994  0.0  0.0  1.0000\\r\\n  Ga  Ga18      1.0  0.7500000000000001  0.0  0.25  1.0000\\r\\n  Ga  Ga19      1.0  0.49999999999999994  0.25  0.25  1.0000\\r\\n  Ga  Ga20      1.0  0.7500000000000001  0.25  0.0  1.0000\\r\\n  As  As17      1.0  0.625  0.125  0.125  1.0000\\r\\n  As  As18      1.0  0.875  0.125  0.37500000000000006  1.0000\\r\\n  As  As19      1.0  0.625  0.37500000000000006  0.37500000000000006  1.0000\\r\\n  As  As20      1.0  0.875  0.37500000000000006  0.125  1.0000\\r\\n  Ga  Ga21      1.0  0.49999999999999994  0.0  0.49999999999999994  1.0000\\r\\n  Ga  Ga22      1.0  0.7500000000000001  0.0  0.7500000000000001  1.0000\\r\\n  Ga  Ga23      1.0  0.49999999999999994  0.25  0.7500000000000001  1.0000\\r\\n  Ga  Ga24      1.0  0.7500000000000001  0.25  0.49999999999999994  1.0000\\r\\n  As  As21      1.0  0.625  0.125  0.625  1.0000\\r\\n  As  As22      1.0  0.875  0.125  0.875  1.0000\\r\\n  As  As23      1.0  0.625  0.37500000000000006  0.875  1.0000\\r\\n  As  As24      1.0  0.875  0.37500000000000006  0.625  1.0000\\r\\n  Ga  Ga25      1.0  0.49999999999999994  0.49999999999999994  0.0  1.0000\\r\\n  Ga  Ga26      1.0  0.7500000000000001  0.49999999999999994  0.25  1.0000\\r\\n  Ga  Ga27      1.0  0.49999999999999994  0.7500000000000001  0.25  1.0000\\r\\n  Ga  Ga28      1.0  0.7500000000000001  0.7500000000000001  0.0  1.0000\\r\\n  As  As25      1.0  0.625  0.625  0.125  1.0000\\r\\n  As  As26      1.0  0.875  0.625  0.37500000000000006  1.0000\\r\\n  As  As27      1.0  0.625  0.875  0.37500000000000006  1.0000\\r\\n  As  As28      1.0  0.875  0.875  0.125  1.0000\\r\\n  Ga  Ga29      1.0  0.49999999999999994  0.49999999999999994  0.49999999999999994  1.0000\\r\\n  Ga  Ga30      1.0  0.7500000000000001  0.49999999999999994  0.7500000000000001  1.0000\\r\\n  Ga  Ga31      1.0  0.49999999999999994  0.7500000000000001  0.7500000000000001  1.0000\\r\\n  Ga  Ga32      1.0  0.7500000000000001  0.7500000000000001  0.49999999999999994  1.0000\\r\\n  As  As29      1.0  0.625  0.625  0.625  1.0000\\r\\n  As  As30      1.0  0.875  0.625  0.875  1.0000\\r\\n  As  As31      1.0  0.625  0.875  0.875  1.0000\\r\\n  As  As32      1.0  0.875  0.875  0.625  1.0000\\r\\n\",\"cif\");\n",
       "\tviewer_17506824260898507.setStyle({\"elem\": \"Ga\"},{\"sphere\": {\"scale\": 0.25, \"color\": \"orange\"}, \"stick\": {\"radius\": 0.12, \"color\": \"orange\"}});\n",
       "\tviewer_17506824260898507.setStyle({\"elem\": \"As\"},{\"sphere\": {\"scale\": 0.25, \"color\": \"purple\"}, \"stick\": {\"radius\": 0.12, \"color\": \"purple\"}});\n",
       "\tviewer_17506824260898507.addModel(\"8\\nBox\\nH 0.000 0.000 0.000\\nH 5.650 0.000 0.000\\nH 5.650 5.650 0.000\\nH 0.000 5.650 0.000\\nH 0.000 0.000 5.650\\nH 5.650 0.000 5.650\\nH 5.650 5.650 5.650\\nH 0.000 5.650 5.650\",\"xyz\");\n",
       "\tviewer_17506824260898507.setStyle({\"model\": 1},{\"stick\": {\"radius\": 0.05, \"color\": \"gray\"}});\n",
       "\tviewer_17506824260898507.setBackgroundColor(\"white\");\n",
       "\tviewer_17506824260898507.zoomTo();\n",
       "viewer_17506824260898507.render();\n",
       "});\n",
       "</script>"
      ]
     },
     "metadata": {},
     "output_type": "display_data"
    }
   ],
   "source": [
    "import numpy as np\n",
    "from ase import Atoms\n",
    "from ase.build import make_supercell\n",
    "from ase.io import write\n",
    "from io import BytesIO\n",
    "import py3Dmol\n",
    "\n",
    "# Define lattice constant\n",
    "a = 5.65\n",
    "\n",
    "# Base unit cell\n",
    "ga_frac = [(0,0,0), (0.5,0,0.5), (0,0.5,0.5), (0.5,0.5,0)]\n",
    "as_frac = [(x+0.25, y+0.25, z+0.25) for x,y,z in ga_frac]\n",
    "ga_cart = [np.dot(f, np.eye(3)*a) for f in ga_frac]\n",
    "as_cart = [np.dot(f, np.eye(3)*a) for f in as_frac]\n",
    "symbols = ['Ga']*4 + ['As']*4\n",
    "positions = ga_cart + as_cart\n",
    "gaas = Atoms(symbols=symbols, positions=positions, cell=[a,a,a], pbc=True)\n",
    "\n",
    "# Supercell\n",
    "supercell = make_supercell(gaas, np.eye(3)*2)\n",
    "\n",
    "# Convert to CIF string\n",
    "cif_io = BytesIO()\n",
    "write(cif_io, supercell, format='cif')\n",
    "cif_str = cif_io.getvalue().decode()\n",
    "\n",
    "# Add box atoms (8 corner dummy atoms, element H)\n",
    "box_atoms = [\n",
    "    [0,0,0], [a,0,0], [a,a,0], [0,a,0],\n",
    "    [0,0,a], [a,0,a], [a,a,a], [0,a,a]\n",
    "]\n",
    "xyz_box = [f\"{len(box_atoms)}\\nBox\"]\n",
    "for pos in box_atoms:\n",
    "    xyz_box.append(f\"H {pos[0]:.3f} {pos[1]:.3f} {pos[2]:.3f}\")\n",
    "xyz_str = \"\\n\".join(xyz_box)\n",
    "\n",
    "# Set up py3Dmol view\n",
    "view = py3Dmol.view(width=800, height=800)\n",
    "view.addModel(cif_str, 'cif')\n",
    "\n",
    "# Atom styles\n",
    "view.setStyle({'elem': 'Ga'}, {\n",
    "    'sphere': {'scale': 0.25, 'color': 'orange'},\n",
    "    'stick': {'radius': 0.12, 'color': 'orange'}\n",
    "})\n",
    "view.setStyle({'elem': 'As'}, {\n",
    "    'sphere': {'scale': 0.25, 'color': 'purple'},\n",
    "    'stick': {'radius': 0.12, 'color': 'purple'}\n",
    "})\n",
    "\n",
    "# Add bounding box using dummy atoms\n",
    "view.addModel(xyz_str, \"xyz\")\n",
    "view.setStyle({'model': 1}, {'stick': {'radius': 0.05, 'color': 'gray'}})\n",
    "\n",
    "# Final display\n",
    "view.setBackgroundColor(\"white\")\n",
    "view.zoomTo()\n",
    "view.show()\n",
    "\n",
    "\n"
   ]
  }
 ],
 "metadata": {
  "kernelspec": {
   "display_name": "base",
   "language": "python",
   "name": "python3"
  },
  "language_info": {
   "codemirror_mode": {
    "name": "ipython",
    "version": 3
   },
   "file_extension": ".py",
   "mimetype": "text/x-python",
   "name": "python",
   "nbconvert_exporter": "python",
   "pygments_lexer": "ipython3",
   "version": "3.11.8"
  }
 },
 "nbformat": 4,
 "nbformat_minor": 5
}

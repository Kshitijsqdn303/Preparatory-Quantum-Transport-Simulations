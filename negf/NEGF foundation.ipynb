{
 "cells": [
  {
   "cell_type": "code",
   "execution_count": 1,
   "id": "97682adf",
   "metadata": {},
   "outputs": [],
   "source": [
    "import numpy as np\n",
    "import matplotlib.pyplot as plt\n",
    "from scipy.integrate import quad"
   ]
  },
  {
   "cell_type": "code",
   "execution_count": 2,
   "id": "242e1623",
   "metadata": {},
   "outputs": [
    {
     "name": "stderr",
     "output_type": "stream",
     "text": [
      "C:\\Users\\kshit\\AppData\\Local\\Temp\\ipykernel_22756\\3790854443.py:20: RuntimeWarning: overflow encountered in exp\n",
      "  return 1 / (1 + np.exp(beta * (E - mu)))\n"
     ]
    },
    {
     "data": {
      "image/png": "[encoded data removed]",
      "text/plain": [
       "<Figure size 640x480 with 1 Axes>"
      ]
     },
     "metadata": {},
     "output_type": "display_data"
    }
   ],
   "source": [
    "\n",
    "# Constants\n",
    "q = 1.6e-19      # Charge of electron (Coulombs)\n",
    "kB = 1.38e-23    # Boltzmann constant (J/K)\n",
    "T = 300          # Temperature in Kelvin\n",
    "beta = 1 / (kB * T)\n",
    "Ef = 0           # Fermi level in eV\n",
    "\n",
    "# Simulation energy range (eV)\n",
    "E = np.linspace(-1, 1, 1000)\n",
    "\n",
    "# Density of states D0 (assumed constant for simplicity)\n",
    "D0 = 1e21        # states/eV/cm^3 (arbitrary units)\n",
    "\n",
    "# Contact couplings\n",
    "nu1 = 0.2        # arbitrary units\n",
    "nu2 = 0.2        # symmetric for now\n",
    "\n",
    "# Fermi-Dirac distribution\n",
    "def fermi(E, mu):\n",
    "    return 1 / (1 + np.exp(beta * (E - mu)))\n",
    "\n",
    "# Bias values\n",
    "bias_vals = np.linspace(-0.5, 0.5, 100)\n",
    "currents = []\n",
    "\n",
    "for V in bias_vals:\n",
    "    mu1 = Ef + V/2\n",
    "    mu2 = Ef - V/2\n",
    "\n",
    "    f1 = fermi(E, mu1)\n",
    "    f2 = fermi(E, mu2)\n",
    "\n",
    "    # Current per energy\n",
    "    integrand = (nu1 * nu2 / (nu1 + nu2)) * (f1 - f2)\n",
    "    I_E = q * D0 * integrand\n",
    "\n",
    "    # Integrate over energy to get total current\n",
    "    dE = E[1] - E[0]\n",
    "    I_total = np.sum(I_E) * dE\n",
    "    currents.append(I_total)\n",
    "\n",
    "# Plotting I-V characteristics\n",
    "plt.plot(bias_vals, currents)\n",
    "plt.xlabel(\"Bias Voltage (V)\")\n",
    "plt.ylabel(\"Current (A)\")\n",
    "plt.title(\"Semi-Classical I-V Curve\")\n",
    "plt.grid(True)\n",
    "plt.show()\n"
   ]
  },
  {
   "cell_type": "markdown",
   "id": "71181356",
   "metadata": {},
   "source": [
    "We will model a 1D lattice with **open boundary conditions** and incorporate **quantum transport using Green’s functions**. The system will consist of:\n",
    "\n",
    "- A central region (device)\n",
    "    \n",
    "- Two contacts (left and right)\n",
    "    \n",
    "- Possibly a potential barrier (for tunneling/resonant cases)\n",
    "    \n",
    "\n",
    "Let’s lay down the structure first.\n",
    "\n",
    "### 1. **Hamiltonian of the Device**\n",
    "\n",
    "For a 1D tight-binding chain:\n",
    "$$H_{i,j}=\\begin{cases}\n",
    "\\epsilon_{i}  & if & i=j\\\\\n",
    "-t  & if & \\lvert i-j \\rvert=1 \\\\\n",
    "0 & else\n",
    "\\end{cases}$$\n",
    "### 2. **Self-Energies of the Contacts $(Σ₁, Σ₂)$**\n",
    "\n",
    "Use the boundary condition:\n",
    "\n",
    "$$\\psi_{-1}=\\psi_{0}e^{ika}-2iB\\sin (ka)$$\n",
    "This leads to the standard form for **retarded self-energy** of semi-infinite leads:\n",
    "\n",
    "$$\\Sigma=te^{ika}$$\n",
    "and thus:\n",
    "$$\\Gamma=i(\\Sigma-\\Sigma ^{\\dagger})=-2t\\sin ka$$\n",
    "From the dispersion: $$E=\\epsilon+2t\\cos ka\\to ka=\\cos^{-1}\\left( \\frac{E-\\epsilon}{2t} \\right)$$\n",
    "\n",
    "\n"
   ]
  },
  {
   "cell_type": "markdown",
   "id": "c2433e40",
   "metadata": {},
   "source": [
    "### Retarded Greens Function\n",
    "$$G^R(E)=[(E+i\\eta)I-H-\\Sigma_1-\\Sigma_2]^{-1}$$"
   ]
  },
  {
   "cell_type": "markdown",
   "id": "bfaa776f",
   "metadata": {},
   "source": [
    "### Transmission\n",
    "$$T(E)=\\mathrm{Tr}~{[\\Gamma_1G^R\\Gamma_2G^A]}$$"
   ]
  },
  {
   "cell_type": "markdown",
   "id": "3b04a89d",
   "metadata": {},
   "source": [
    "### Current Calculation\n",
    "Using:\n",
    "$$I_{1}=\\frac{q}{h}\\int ~dE~~\\mathrm{Tr}[\\Gamma_{1}G^R\\Gamma_{2}G^A]~~(f_{1}-f_{2})$$"
   ]
  },
  {
   "cell_type": "markdown",
   "id": "64cb604b",
   "metadata": {},
   "source": [
    "### Parameters"
   ]
  },
  {
   "cell_type": "code",
   "execution_count": 2,
   "id": "eadb03e5",
   "metadata": {},
   "outputs": [],
   "source": [
    "# -----------------------\n",
    "# PARAMETERS\n",
    "# -----------------------\n",
    "N = 100                # Number of sites in the device\n",
    "t = 1.0              # Hopping term\n",
    "epsilon = 0.0        # On-site energy\n",
    "a = 1.0              # Lattice constant\n",
    "eta = 1e-5           # Small imaginary term for numerical stability\n",
    "kT = 0.025           # Thermal energy ~ 300K\n",
    "mu1, mu2 = 0.1, -0.1 # Fermi levels for contacts\n"
   ]
  },
  {
   "cell_type": "markdown",
   "id": "e3fb8b7c",
   "metadata": {},
   "source": [
    "hysical Meaning:**\n",
    "\n",
    "- You're modeling a 1D quantum wire with **nearest-neighbor hopping**.\n",
    "    \n",
    "- Bias is applied: electrons want to flow from $\\mu_1 \\to \\mu_2$​.\n",
    "    \n",
    "- $\\eta$ is your **numerical regulator**; it gives the Green’s function the correct **retarded** behavior.\n",
    "    \n",
    "\n",
    "---\n",
    "\n",
    "## 2. 🔧 Hamiltonian"
   ]
  },
  {
   "cell_type": "code",
   "execution_count": 3,
   "id": "006de9f8",
   "metadata": {},
   "outputs": [],
   "source": [
    "def create_hamiltonian(N, t, epsilon):\n",
    "    H = np.zeros((N, N), dtype=complex)\n",
    "    for i in range(N):\n",
    "        H[i, i] = epsilon\n",
    "        if i > 0:\n",
    "            H[i, i - 1] = -t\n",
    "            H[i - 1, i] = -t\n",
    "    return H"
   ]
  },
  {
   "cell_type": "markdown",
   "id": "d846159e",
   "metadata": {},
   "source": [
    "This builds your **device Hamiltonian**. Each site has:\n",
    "\n",
    "- **On-site energy** ε\\varepsilonε\n",
    "    \n",
    "- **Hopping** to neighbor: $−t$\n",
    "    \n",
    "\n",
    "This gives you a **tridiagonal tight-binding matrix**, representing a **1D crystal**.\n",
    "\n",
    "---\n",
    "\n",
    "## 3. 🧿 Self-Energy and Broadening"
   ]
  },
  {
   "cell_type": "code",
   "execution_count": null,
   "id": "3cae05e1",
   "metadata": {},
   "outputs": [],
   "source": [
    "def self_energy(E, t, epsilon):\n",
    "    arg = (E - epsilon) / (2 * t)\n",
    "    if np.abs(arg) > 1:\n",
    "        # Outside propagating region, evanescent modes\n",
    "        ka = np.arccosh(np.abs(arg)) * 1j * np.sign(arg)\n",
    "    else:\n",
    "        ka = np.arccos(arg)\n",
    "    Sigma = t * np.exp(1j * ka)\n",
    "    Gamma = 1j * (Sigma - np.conj(Sigma))\n",
    "    return Sigma, Gamma\n"
   ]
  },
  {
   "cell_type": "markdown",
   "id": "f91f96d4",
   "metadata": {},
   "source": [
    "Here’s the meat of NEGF: **lead self-energy** $\\Sigma$ and **broadening** $\\Gamma$:\n",
    "\n",
    "- $\\Sigma = t e^{i k a}$: complex energy shift from semi-infinite lead.\n",
    "    \n",
    "- If energy is inside band: **real $k$** → propagating modes.\n",
    "    \n",
    "- If outside band: **complex $k$** → evanescent (decaying) modes.\n",
    "    \n",
    "\n",
    "### 📌 Physical Picture:\n",
    "\n",
    "- $\\Gamma$ describes **how strongly the lead is coupled** to the device.\n",
    "    \n",
    "- It’s also linked to the **density of available states** in the leads.\n",
    "    \n",
    "\n",
    "---\n",
    "\n",
    "## 4. 🟩 Green’s Function"
   ]
  },
  {
   "cell_type": "code",
   "execution_count": null,
   "id": "80412d7c",
   "metadata": {},
   "outputs": [],
   "source": [
    "def green_function(E, H, Sigma1, Sigma2, eta=1e-5):\n",
    "    H_eff = H.copy()\n",
    "    H_eff[0, 0] += Sigma1\n",
    "    H_eff[-1, -1] += Sigma2\n",
    "    return np.linalg.inv((E + 1j * eta) * np.eye(H.shape[0]) - H_eff)"
   ]
  },
  {
   "cell_type": "markdown",
   "id": "1ec7c4ea",
   "metadata": {},
   "source": [
    "We're computing the **retarded Green's function**:\n",
    "\n",
    "$$G^R(E) = \\left[ (E + i \\eta) I - H - \\Sigma_1 - \\Sigma_2 \\right]^{-1}$$\n",
    "\n",
    "It tells you:\n",
    "\n",
    "- How an electron injected at site $i$ propagates to site $j$ with energy $E$.\n",
    "    \n",
    "- Self-energies modify just the **first and last site**, where the leads are attached.\n",
    "\n",
    "## 5. 🚪 Transmission Function"
   ]
  },
  {
   "cell_type": "code",
   "execution_count": null,
   "id": "6df4d8f3",
   "metadata": {},
   "outputs": [],
   "source": [
    "def transmission(E, H, t, epsilon):\n",
    "    Sigma1, Gamma1_val = self_energy(E, t, epsilon)\n",
    "    Sigma2, Gamma2_val = self_energy(E, t, epsilon)\n",
    "\n",
    "    GR = green_function(E, H, Sigma1, Sigma2)\n",
    "    GA = GR.conj().T\n",
    "\n",
    "    Gamma1 = np.zeros_like(H, dtype=complex)\n",
    "    Gamma2 = np.zeros_like(H, dtype=complex)\n",
    "    Gamma1[0, 0] = Gamma1_val\n",
    "    Gamma2[-1, -1] = Gamma2_val\n",
    "\n",
    "    T = np.real(np.trace(Gamma1 @ GR @ Gamma2 @ GA))\n",
    "    return T"
   ]
  },
  {
   "cell_type": "markdown",
   "id": "d2140b5c",
   "metadata": {},
   "source": [
    "You're calculating:\n",
    "\n",
    "$$T(E) = \\text{Tr}\\left[ \\Gamma_1 G^R \\Gamma_2 G^A \\right]$$\n",
    "\n",
    "- This is **Caroli formula**: probability that a mode entering from left lead exits into the right.\n",
    "    \n",
    "- The $\\Gamma$ \"open\" the system to incoming/outgoing electrons.\n",
    "    \n",
    "\n",
    "---\n",
    "\n",
    "## 6. ⚛️ Fermi Distribution"
   ]
  },
  {
   "cell_type": "code",
   "execution_count": null,
   "id": "77598ade",
   "metadata": {},
   "outputs": [],
   "source": [
    "def fermi(E, mu, kT):\n",
    "    return 1.0 / (1.0 + np.exp((E - mu) / kT))"
   ]
  },
  {
   "cell_type": "markdown",
   "id": "03ac7c07",
   "metadata": {},
   "source": [
    "Standard Fermi-Dirac distribution. Tells you:\n",
    "\n",
    "- Probability that a state at energy $E$ is occupied in a reservoir with chemical potential $\\mu$.\n",
    "\n",
    "---\n",
    "\n",
    "## 7. ⚡ Current Calculation\n"
   ]
  },
  {
   "cell_type": "code",
   "execution_count": null,
   "id": "2081b016",
   "metadata": {},
   "outputs": [],
   "source": [
    "def current(mu1, mu2, H, t, epsilon, kT):\n",
    "    def integrand(E):\n",
    "        T_E = transmission(E, H, t, epsilon)\n",
    "        return T_E * (fermi(E, mu1, kT) - fermi(E, mu2, kT))\n",
    "    \n",
    "    I, _ = quad(integrand, -5, 5, limit=1000)\n",
    "    return I / (2 * np.pi)"
   ]
  },
  {
   "cell_type": "markdown",
   "id": "34bbe996",
   "metadata": {},
   "source": [
    "This implements the **Landauer-Büttiker formula**:\n",
    "\n",
    "$$I = \\frac{1}{2\\pi} \\int dE \\, T(E) \\left[ f_1(E) - f_2(E) \\right]$$\n",
    "\n",
    "- **$f_1 - f_2$​**: population imbalance between contacts\n",
    "    \n",
    "- **$T(E)$**: how many electrons actually pass through the channel\n",
    "    \n",
    "- Units are arbitrary, unless you multiply by $q$ (charge) and $h$.\n",
    "    \n",
    "\n",
    "---\n",
    "\n",
    "## 8. 📈 Plotting Transmission"
   ]
  },
  {
   "cell_type": "code",
   "execution_count": null,
   "id": "b287814d",
   "metadata": {},
   "outputs": [],
   "source": [
    "Es = np.linspace(-2.5 * t, 2.5 * t, 500)\n",
    "Ts = [transmission(E, H, t, epsilon) for E in Es]\n",
    "\n",
    "plt.plot(Es, Ts)\n",
    "plt.xlabel(\"Energy E\")\n",
    "plt.ylabel(\"Transmission T(E)\")\n",
    "plt.title(\"Transmission Spectrum\")\n",
    "plt.grid(True)"
   ]
  },
  {
   "cell_type": "markdown",
   "id": "51ddd7bc",
   "metadata": {},
   "source": [
    "This shows your **transmission spectrum**:\n",
    "\n",
    "- Flat region of $T=1$ means **perfect conduction**, i.e., a quantum of conductance.\n",
    "    \n",
    "- For 1D wire, you expect $T=1$ within the energy band $[-2t, +2t]$, because only **1 propagating mode** exists.\n",
    "    \n",
    "- Outside this range, $T \\to 0$: **no available states** in the leads to support transport.\n",
    "    \n",
    "\n",
    "---\n",
    "\n",
    "## 🚀 Key Physical Insights\n",
    "\n",
    "| Concept             | Intuition                                                              |\n",
    "| ------------------- | ---------------------------------------------------------------------- |\n",
    "| Green’s function    | Propagation amplitude through device at energy $E$                     |\n",
    "| Self-energy         | Effect of coupling the device to infinite leads                        |\n",
    "| Broadening ($Γ$)    | How many states the lead offers at energy $E$                          |\n",
    "| Transmission $T(E)$ | Probability that an electron at $E$ tunnels from one lead to the other |\n",
    "| Current $I$         | Integrated net flow due to Fermi difference between leads              |"
   ]
  },
  {
   "cell_type": "code",
   "execution_count": null,
   "id": "399c5845",
   "metadata": {},
   "outputs": [
    {
     "name": "stdout",
     "output_type": "stream",
     "text": [
      "Current I = 0.031863 (in arbitrary units)\n"
     ]
    },
    {
     "data": {
      "image/png": "[encoded data removed]",
      "text/plain": [
       "<Figure size 640x480 with 1 Axes>"
      ]
     },
     "metadata": {},
     "output_type": "display_data"
    }
   ],
   "source": [
    "import numpy as np\n",
    "from scipy.integrate import quad\n",
    "import matplotlib.pyplot as plt\n",
    "\n",
    "# -----------------------\n",
    "# PARAMETERS\n",
    "# -----------------------\n",
    "N = 100                # Number of sites in the device\n",
    "t = 1.0              # Hopping term\n",
    "epsilon = 0.0        # On-site energy\n",
    "a = 1.0              # Lattice constant\n",
    "eta = 1e-5           # Small imaginary term for numerical stability\n",
    "kT = 0.025           # Thermal energy ~ 300K\n",
    "mu1, mu2 = 0.1, -0.1 # Fermi levels for contacts\n",
    "\n",
    "# -----------------------\n",
    "# DEVICE HAMILTONIAN\n",
    "# -----------------------\n",
    "def create_hamiltonian(N, t, epsilon):\n",
    "    H = np.zeros((N, N), dtype=complex)\n",
    "    for i in range(N):\n",
    "        H[i, i] = epsilon\n",
    "        if i > 0:\n",
    "            H[i, i - 1] = -t\n",
    "            H[i - 1, i] = -t\n",
    "    return H\n",
    "\n",
    "# -----------------------\n",
    "# SELF-ENERGY + BROADENING\n",
    "# -----------------------\n",
    "def self_energy(E, t, epsilon):\n",
    "    arg = (E - epsilon) / (2 * t)\n",
    "    if np.abs(arg) > 1:\n",
    "        # Outside propagating region, evanescent modes\n",
    "        ka = np.arccosh(np.abs(arg)) * 1j * np.sign(arg)\n",
    "    else:\n",
    "        ka = np.arccos(arg)\n",
    "    Sigma = t * np.exp(1j * ka)\n",
    "    Gamma = 1j * (Sigma - np.conj(Sigma))\n",
    "    return Sigma, Gamma\n",
    "\n",
    "# -------------------------------------------------\n",
    "# GREEN'S FUNCTION\n",
    "# -------------------------------------------------\n",
    "def green_function(E, H, Sigma1, Sigma2, eta=1e-5):\n",
    "    H_eff = H.copy()\n",
    "    H_eff[0, 0] += Sigma1\n",
    "    H_eff[-1, -1] += Sigma2\n",
    "    return np.linalg.inv((E + 1j * eta) * np.eye(H.shape[0]) - H_eff)\n",
    "\n",
    "# -----------------------\n",
    "# TRANSMISSION FUNCTION\n",
    "# -----------------------\n",
    "def transmission(E, H, t, epsilon):\n",
    "    Sigma1, Gamma1_val = self_energy(E, t, epsilon)\n",
    "    Sigma2, Gamma2_val = self_energy(E, t, epsilon)\n",
    "\n",
    "    GR = green_function(E, H, Sigma1, Sigma2)\n",
    "    GA = GR.conj().T\n",
    "\n",
    "    Gamma1 = np.zeros_like(H, dtype=complex)\n",
    "    Gamma2 = np.zeros_like(H, dtype=complex)\n",
    "    Gamma1[0, 0] = Gamma1_val\n",
    "    Gamma2[-1, -1] = Gamma2_val\n",
    "\n",
    "    T = np.real(np.trace(Gamma1 @ GR @ Gamma2 @ GA))\n",
    "    return T\n",
    "\n",
    "# -----------------------\n",
    "# FERMI FUNCTION\n",
    "# -----------------------\n",
    "def fermi(E, mu, kT):\n",
    "    return 1.0 / (1.0 + np.exp((E - mu) / kT))\n",
    "\n",
    "# -----------------------\n",
    "# CURRENT CALCULATION\n",
    "# -----------------------\n",
    "def current(mu1, mu2, H, t, epsilon, kT):\n",
    "    def integrand(E):\n",
    "        T_E = transmission(E, H, t, epsilon)\n",
    "        return T_E * (fermi(E, mu1, kT) - fermi(E, mu2, kT))\n",
    "    \n",
    "    I, _ = quad(integrand, -5, 5, limit=1000)\n",
    "    return I / (2 * np.pi)\n",
    "\n",
    "# -----------------------\n",
    "# MAIN\n",
    "# -----------------------\n",
    "H = create_hamiltonian(N, t, epsilon)\n",
    "I = current(mu1, mu2, H, t, epsilon, kT)\n",
    "print(f\"Current I = {I:.6f} (in arbitrary units)\")\n",
    "\n",
    "# -----------------------\n",
    "# PLOT T(E)\n",
    "# -----------------------\n",
    "Es = np.linspace(-2.5 * t, 2.5 * t, 500)\n",
    "Ts = [transmission(E, H, t, epsilon) for E in Es]\n",
    "\n",
    "plt.plot(Es, Ts)\n",
    "plt.xlabel(\"Energy E\")\n",
    "plt.ylabel(\"Transmission T(E)\")\n",
    "plt.title(\"Transmission Spectrum\")\n",
    "plt.grid(True)\n",
    "plt.show()\n"
   ]
  }
 ],
 "metadata": {
  "kernelspec": {
   "display_name": "base",
   "language": "python",
   "name": "python3"
  },
  "language_info": {
   "codemirror_mode": {
    "name": "ipython",
    "version": 3
   },
   "file_extension": ".py",
   "mimetype": "text/x-python",
   "name": "python",
   "nbconvert_exporter": "python",
   "pygments_lexer": "ipython3",
   "version": "3.11.8"
  }
 },
 "nbformat": 4,
 "nbformat_minor": 5
}

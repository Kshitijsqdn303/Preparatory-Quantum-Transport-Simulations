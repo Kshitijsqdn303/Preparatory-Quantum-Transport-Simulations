{
 "cells": [
  {
   "cell_type": "code",
   "execution_count": 1,
   "id": "2184b271",
   "metadata": {},
   "outputs": [],
   "source": [
    "import numpy as np\n",
    "import matplotlib.pyplot as plt\n",
    "from scipy.integrate import quad, dblquad\n",
    "from scipy.constants import physical_constants, e,  epsilon_0, hbar, m_e, pi"
   ]
  },
  {
   "cell_type": "markdown",
   "id": "1a0ddded",
   "metadata": {},
   "source": [
    "The normalized 1s hydrogen atomic orbital is $$\\psi_{1s}(\\mathbf{r})= \\frac{1}{\\sqrt{ \\pi a_{0}^3 }}e^{-r/a_{0}}$$\n",
    "- $a_{0}$ is the bohr radius\n",
    "- We place the atoms at $\\mathbf{r}=-\\frac{R}{2}\\hat{z}$ and $\\mathbf{r}=\\frac{R}{2}\\hat{z}$\n",
    "\n",
    "The $$\\psi_{1}(\\mathbf{r})=\\psi_{1s}\\left( \\left\\lvert  \\mathbf{r}+\\frac{R}{2}\\hat{z}   \\right\\rvert  \\right)$$\n",
    "and $$\\psi_{2}(\\mathbf{r})=\\psi_{1s}\\left( \\left\\lvert  \\mathbf{r}-\\frac{R}{2}\\hat{z}   \\right\\rvert  \\right)$$\n"
   ]
  },
  {
   "cell_type": "markdown",
   "id": "6f749e07",
   "metadata": {},
   "source": [
    "## Step 2: Using the Scrhodinger Function\n",
    "Now we know the time indepedent Schrodinger equation is of form: $$\\hat{H}\\Psi(\\vec{r})=E\\Psi(\\vec{r})$$\n",
    "Now we use the basis functions as the 1s orbitals of the hydrogen atoms.\n",
    "So we can write our overall wavefunction of the molecule as the superposition of them: $$\\mathbf{\\Psi}=c_{1}\\psi_{1}+c_{2}\\psi_{2}$$\n",
    "Hence we can write $$\\hat{H}(c_{1}\\ket{\\psi_{1}}+c_{2}\\ket{\\psi_{2}}  )=E(c_{1}\\ket{\\psi_{1}}+c_{2}\\ket{\\psi_{2}}  )$$\n",
    "$$c_{1}\\hat{H}\\ket{\\psi_{1}}+c_{2}\\hat{H}\\ket{\\psi_{2}} =c_{1}E\\ket{\\psi_{1}}+c_{2}E\\ket{\\psi_{2}}   $$\n",
    "Now we bring we find the $H_{mn}$ elements, effectively finding the contribution of $\\psi_{1},\\psi_{2}$ to new Hamiltonian. $$c_{1}\\braket{ \\psi_{1} |\\hat{H}|\\psi_{1}  }+c_{2}\\braket{ \\psi_{1}|\\hat{H}|\\psi_{2}  }=E(c_{1}\\braket{ \\psi_{1} |\\psi_{1}  }+c_{2}\\braket{ \\psi_{1}|\\psi_{2}  })   $$\n",
    "Now we write: \n",
    "$$\\braket{ \\psi_{1}|\\hat{H}|\\psi_{1}  }=\\epsilon $$\n",
    "$$\\braket{ \\psi_{1}|\\hat{H}|\\psi_{2}}=t$$ \n",
    "$$\\braket{ \\psi_{2}|\\hat{H}|\\psi_{1}}=t$$\n",
    "$$\\braket{ \\psi_{2}|\\hat{H}|\\psi_{2}  }=\\epsilon $$\n",
    "\n",
    "\n",
    "But why $H_{11}=H_{22}~;~H_{12}=H_{21}$ ?\n",
    "This is maybe due to the symmetry of the said molecule. The energy contribution of either atom is same due to symmetry. And so is the coupled energy.\n",
    "Similarly: $$\\braket{ \\psi_{1} | \\psi_{2} }=\\braket{ \\psi_{2} |\\psi_{1}  } =s  $$\n",
    "\n",
    "$$\\braket{ \\psi_{1} |\\psi_{1}  }=\\braket{ \\psi_{2} |\\psi_{2}  } =1  $$\n",
    "\n",
    "From this we get our $S$ matrix. Note that I here wrote general representation. That is, that basis functions need not to be always orthonormal ($\\braket{ \\psi_{i} |\\psi_{j}  }=0$). Applying our results we get following matrix formulation.\n",
    "\n",
    "$$E\\mathbf{S\\Psi}=\\mathbf{\\hat{H}\\Psi}$$\n",
    "\n",
    "$$E\\begin{pmatrix}\n",
    "1 & s \\\\\n",
    "s & 1\n",
    "\\end{pmatrix}\\begin{pmatrix}\n",
    "\\psi_{1} \\\\\n",
    "\\psi_{2}\n",
    "\\end{pmatrix}=\\begin{pmatrix}\n",
    "\\epsilon & t \\\\\n",
    "t & \\epsilon\n",
    "\\end{pmatrix}\\begin{pmatrix}\n",
    "\\psi_{1} \\\\\n",
    "\\psi_{2}\n",
    "\\end{pmatrix}$$"
   ]
  },
  {
   "cell_type": "markdown",
   "id": "ee8f1fb7",
   "metadata": {},
   "source": [
    "## Step 3: Definitions of Integrals or Inner Products\n",
    "\n",
    "- Overlap Integral:\n",
    "$$s=\\int \\psi_{1}(r)\\psi_{2}(r)d^3r$$\n",
    "- On-site Energy\n",
    "$$\\epsilon=\\int \\psi_{1}^*(\\mathbf{r})\\left( -\\frac{\\hbar^2}{2m}-\\frac{e^2}{4\\pi\\epsilon_{0}\\left\\lvert  \\mathbf{r}+\\frac{R}{2}  \\right\\rvert }-\\frac{e^2}{4\\pi\\epsilon_{0}\\left\\lvert  \\mathbf{r}-\\frac{R}{2}  \\right\\rvert } \\right)~\\psi_{1}(\\mathbf{r})~d^3r$$\n",
    "- Hopping Integral\n",
    "$$t=\\int \\psi_{1}^*(\\mathbf{r})\\hat{H}\\psi_{2}(\\mathbf{r})~d^3r$$\n",
    "\n"
   ]
  },
  {
   "cell_type": "code",
   "execution_count": 2,
   "id": "f626bebd",
   "metadata": {},
   "outputs": [],
   "source": [
    "# Constants\n",
    "a0=physical_constants['Bohr radius'][0]  # Bohr radius in meters\n",
    "eh=physical_constants['Hartree energy'][0]  # Hartree energy in Joules\n",
    "h2m=(hbar**2)/(2*m_e)  # h^2/(2m) in Joules\n",
    "\n",
    "# Set internuclear distance R (in Bohr units)\n",
    "R = 1.4  # ~equilibrium bond length of H2\n",
    "\n",
    "# Hartree energy: is a unit of energy commonly used in atomic and molecular physics and quantum chemistry. \n",
    "# It is defined as the electrostatic potential energy of two electrons separated by the \n",
    "# Bohr radius in a vacuum. "
   ]
  },
  {
   "cell_type": "code",
   "execution_count": 3,
   "id": "abe01625",
   "metadata": {},
   "outputs": [],
   "source": [
    "# 1s hydrogen orbital\n",
    "def psi_1s(r):\n",
    "    return (1 / np.sqrt(np.pi)) * np.exp(-r )"
   ]
  },
  {
   "cell_type": "markdown",
   "id": "01e3613a",
   "metadata": {},
   "source": [
    "## Solving the Integrals\n",
    "\n",
    "#### Geometry of the Problem\n",
    "\n",
    "We are using a **simplified 1D radial approximation**, not full 3D, just to get intuition.\n",
    "\n",
    "Suppose:\n",
    "\n",
    "- Atom $1$ is centered at $z=0$\n",
    "    \n",
    "- Atom $2$ is at $z=R$\n",
    "    \n",
    "- $\\psi_1(r) = \\psi_{1s}(r)$, centered at $0$\n",
    "    \n",
    "- $\\psi_2(r) = \\psi_{1s}(|r - R|)$, centered at $R$\n",
    "\n",
    "So the integrand becomes\n",
    "$$\\psi_{1}(r)\\psi_{2}(r)=\\psi_{1s}(r)\\cdot\\psi_{1s}(\\lvert R-r \\rvert )$$\n",
    "Now the volume integral can be simplified for the spherical symmetry: $$\\int d^3r=\\int dr~r^2\\cdot \\int d\\Omega$$\n",
    "So we multiply by $r^2$ in the code, and also $\\int d\\Omega=4\\pi$"
   ]
  },
  {
   "cell_type": "code",
   "execution_count": 58,
   "id": "c8da9850",
   "metadata": {},
   "outputs": [
    {
     "data": {
      "text/plain": [
       "2.8059446536170722"
      ]
     },
     "execution_count": 58,
     "metadata": {},
     "output_type": "execute_result"
    }
   ],
   "source": [
    "# Defining the Integrals\n",
    "# overlap integral S\n",
    "def overlap_integral(R):\n",
    "    integral = lambda r: psi_1s(r)*psi_1s(np.abs(R-r))*r**2\n",
    "    s, _=quad(integral, 0, 20, limit=100)\n",
    "    return s*4*np.pi\n",
    "\n",
    "s=overlap_integral(R)\n",
    "s\n"
   ]
  },
  {
   "cell_type": "markdown",
   "id": "31d58cf1",
   "metadata": {},
   "source": [
    "`quad`: A function for numerical integration (quadrature) from the `scipy.integrate` module.\n",
    "\n",
    "`integral`: The function to integrate.\n",
    "\n",
    "`0, 20`: The lower and upper limits of integration.\n",
    "\n",
    "`limits=100`:This sets the maximum number of subintervals for integration (used for handling difficult integrals).\n",
    "\n",
    "`s, _`: The result of quad is a tuple: the first value (s) is the computed integral, the second (_) is the estimated error."
   ]
  },
  {
   "cell_type": "markdown",
   "id": "9b7ed4bf",
   "metadata": {},
   "source": [
    "## Hopping Integral\n",
    "\n",
    "Now the hopping integral is defined by the inner product as: $$t=\\braket{ \\psi|\\hat{H}| \\psi } $$\n",
    "Now we have to write the Hamiltonian operator as: $$\\hat{H}=\\left( -\\frac{h^2}{2m}\\nabla^2 \\right)+\\left[ \\left( -\\frac{1}{r} \\right)+\\left( -\\frac{1}{\\lvert r-R \\rvert } \\right) \\right]$$\n",
    "Where: \n",
    "- $-\\frac{h^2}{2m} \\nabla^2$ is the **kinetic energy term**.\n",
    "- **Potential from the nucleus at A**: $V_{A}=-\\frac{1}{r}$\n",
    "- **Potential from the nucleus at B**: $V_{B}=-\\frac{1}{\\lvert r-R \\rvert}$\n",
    "\n",
    "Thus, in atomic units, the total potential:\n",
    "$$V(r)=-\\frac{1}{r}-\\frac{1}{\\lvert r-R \\rvert }$$\n",
    "In our **simplified 1D radial approximation**, we ignore kinetic energy (we’ll revisit this later if needed), and only keep the **potential energy operator** part:\n",
    "\n",
    "Hence we get: $$t=\\int \\psi_{1}(r)\\cdot V(r)\\cdot \\psi_{2}(r)~d^3r$$\n",
    "\n"
   ]
  },
  {
   "cell_type": "code",
   "execution_count": 59,
   "id": "af6bd477",
   "metadata": {},
   "outputs": [
    {
     "name": "stderr",
     "output_type": "stream",
     "text": [
      "C:\\Users\\kshit\\AppData\\Local\\Temp\\ipykernel_29100\\1086991567.py:3: RuntimeWarning: divide by zero encountered in scalar divide\n",
      "  integral=lambda r: psi_1s(r)*(-1/r-1/np.abs(R-r))*psi_1s(np.abs(R-r))*r**2\n",
      "C:\\Users\\kshit\\AppData\\Local\\Temp\\ipykernel_29100\\1086991567.py:4: IntegrationWarning: The integral is probably divergent, or slowly convergent.\n",
      "  t, _ = quad(integral, 0, 20, limit=100)\n"
     ]
    },
    {
     "data": {
      "text/plain": [
       "-74.0833637477943"
      ]
     },
     "execution_count": 59,
     "metadata": {},
     "output_type": "execute_result"
    }
   ],
   "source": [
    "# Hopping Integral \n",
    "def hopping_integral(R):\n",
    "    integral=lambda r: psi_1s(r)*(-1/r-1/np.abs(R-r))*psi_1s(np.abs(R-r))*r**2\n",
    "    t, _ = quad(integral, 0, 20, limit=100)\n",
    "    return t*4*np.pi\n",
    "\n",
    "# Onsite energy\n",
    "def onsite_energy():\n",
    "    # For 1s in H atom: ⟨T⟩ = +13.6 eV, ⟨V⟩ = -27.2 eV, ⟨E⟩ = -13.6 eV\n",
    "    return -1.0  # in Hartree (~ -13.6 eV)\n",
    "\n",
    "t=hopping_integral(R)\n",
    "t"
   ]
  },
  {
   "cell_type": "markdown",
   "id": "ac6613df",
   "metadata": {},
   "source": [
    "# Inconsistencies - Overlapping Integral .\n",
    "\n",
    "The methodology and code we used gave wrong results for $s,t$. This is due to gross approximation we used by treating the entire problem as a 1D radial problem.\n",
    "\n",
    "Now we will treat it as fully a 3D problem, by evaluating the **3D overlap integral** between two hydrogen 1s orbitals that are located at **two different positions** in space, specifically at:\n",
    "- Atom A at $+R/2\\hat{z}$ \n",
    "- Atom B at $-R/2\\hat{z}$\n",
    "\n",
    "Hence we write: $$s(R)=\\int d^3\\vec{r}~ \\psi_{A}(\\vec{r}) \\psi_{B}(\\vec{r})$$\n",
    "where :\n",
    "- $\\psi_{A}(\\vec{r})=\\psi_{1s}(\\vec{r}-\\vec{R}/2)$\n",
    "- $\\psi_{B}(\\vec{r})=\\psi_{1s}(\\vec{r}+\\vec{R}/2)$\n",
    "\n",
    "So this is a **volume integral over all space**, of the **product of two spherically symmetric orbitals**, each centered on different nuclei.\n",
    "\n",
    "For this integral, we will shift to spherical coordinates due to spherical symmetry.\n",
    "Hence we can write: $$d^3\\vec{r}=r^2\\sin \\theta dr~d\\theta ~d\\phi$$\n",
    "### The Function: `true_overlap_integral(R)`\n",
    "\n",
    "#### 🔹 Inputs:\n",
    "\n",
    "- `R`: distance between the two atoms\n",
    "\t\n",
    "- `r1`: distance from point $\\vec{r}$ to atom A (at $+R/2$ on z-axis)\n",
    "    \n",
    "- `r2`: distance from point $\\vec{r}$ to atom B (at $−R/2$ on z-axis)\n",
    "\n",
    "They are computed using the law of cosines: $$\\left\\lvert  \\vec{r}-\\frac{\\vec{R}}{2}  \\right\\rvert =\\sqrt{ r^2+R^2-2r(R/2)\\cos \\theta }$$\n",
    "and similarly for the $\\lvert \\vec{r}+\\vec{R}/2 \\rvert$\n",
    "#### 🔹 Next:\n",
    "\n",
    "This is the **double integration** over $r$ and $θ$. `dblquad` handles nested integration:\n",
    "\n",
    "- Outer: $r$ from $0$ to $10$ (good enough; orbitals vanish exponentially)\n",
    "    \n",
    "- Inner: $θ$ from $0$ to $π$\n",
    "\n",
    "Finally we multiply the $2\\pi$ due to : $\\int_{0}^{2\\pi}d\\phi=2\\pi$.\n"
   ]
  },
  {
   "cell_type": "code",
   "execution_count": 4,
   "id": "a47a99be",
   "metadata": {},
   "outputs": [
    {
     "ename": "NameError",
     "evalue": "name 's' is not defined",
     "output_type": "error",
     "traceback": [
      "\u001b[1;31m---------------------------------------------------------------------------\u001b[0m",
      "\u001b[1;31mNameError\u001b[0m                                 Traceback (most recent call last)",
      "Cell \u001b[1;32mIn[4], line 16\u001b[0m\n\u001b[0;32m      7\u001b[0m     result, _ \u001b[38;5;241m=\u001b[39m dblquad(\n\u001b[0;32m      8\u001b[0m         func\u001b[38;5;241m=\u001b[39mintegrand,\n\u001b[0;32m      9\u001b[0m         a\u001b[38;5;241m=\u001b[39m\u001b[38;5;241m0\u001b[39m, b\u001b[38;5;241m=\u001b[39m\u001b[38;5;241m3\u001b[39m,                      \u001b[38;5;66;03m# limit r to 10 Bohr radii\u001b[39;00m\n\u001b[1;32m   (...)\u001b[0m\n\u001b[0;32m     13\u001b[0m         epsrel\u001b[38;5;241m=\u001b[39m\u001b[38;5;241m1e-10\u001b[39m\n\u001b[0;32m     14\u001b[0m     )\n\u001b[0;32m     15\u001b[0m     \u001b[38;5;28;01mreturn\u001b[39;00m \u001b[38;5;241m2\u001b[39m \u001b[38;5;241m*\u001b[39m pi \u001b[38;5;241m*\u001b[39m result\n\u001b[1;32m---> 16\u001b[0m s\n",
      "\u001b[1;31mNameError\u001b[0m: name 's' is not defined"
     ]
    }
   ],
   "source": [
    "def full_overlap_integral(R):\n",
    "    def integrand(theta, r):\n",
    "        r1 = np.sqrt(r**2 + R**2 + 2*r*R*np.cos(theta))  # distance to nucleus A\n",
    "        r2 = np.sqrt(r**2 + R**2 - 2*r*R*np.cos(theta))\n",
    "        return psi_1s(r1) * psi_1s(r2) * np.sin(theta) * r**2\n",
    "\n",
    "    result, _ = dblquad(\n",
    "        func=integrand,\n",
    "        a=0, b=3,                      # limit r to 10 Bohr radii\n",
    "        gfun=lambda r: 0,\n",
    "        hfun=lambda r: pi,\n",
    "        epsabs=1e-10,\n",
    "        epsrel=1e-10\n",
    "    )\n",
    "    return 2 * pi * result\n",
    "s\n",
    "\n",
    "\n",
    "\n"
   ]
  },
  {
   "cell_type": "markdown",
   "id": "ef15d492",
   "metadata": {},
   "source": [
    "### Inconsistencies- Hopping Function\n",
    "\n",
    "Now that we were computing $$t(R)=\\int \\psi_{A}^*(\\vec{r})\\cdot \\hat{H}\\cdot \\psi(\\vec{r})~d^3r$$\n",
    "where we neglect the kinetic part in the Hamiltonian, to only give us the potential term.\n",
    "\n",
    "$$t(R)\\approx \\int \\psi_{A}^*(\\vec{r})\\cdot V_{Total}(\\vec{r})\\cdot \\psi_{B}(\\vec{r})d^3r$$\n",
    "\n",
    "First we need the potential function, which we can get as: $$V(\\vec{r})=-\\frac{1}{\\lvert \\vec{r}-R/2 \\rvert }-\\frac{1}{\\lvert \\vec{r}+R/2 \\rvert }$$\n",
    "\n"
   ]
  },
  {
   "cell_type": "code",
   "execution_count": 5,
   "id": "5018a9d3",
   "metadata": {},
   "outputs": [
    {
     "data": {
      "text/plain": [
       "(0.1907106992242572, -0.5323321889560118)"
      ]
     },
     "execution_count": 5,
     "metadata": {},
     "output_type": "execute_result"
    }
   ],
   "source": [
    "\n",
    "def full_overlap_integral(R):\n",
    "    def integrand(theta, r):\n",
    "        r1 = np.sqrt(r**2 + R**2 + 2*r*R*np.cos(theta))  # distance to nucleus A\n",
    "        r2 = np.sqrt(r**2 + R**2 - 2*r*R*np.cos(theta))\n",
    "        return psi_1s(r1) * psi_1s(r2) * np.sin(theta) * r**2\n",
    "\n",
    "    result, _ = dblquad(\n",
    "        func=integrand,\n",
    "        a=0, b=1.7,                      # limit r to 10 Bohr radii\n",
    "        gfun=lambda r: 0,\n",
    "        hfun=lambda r: pi,\n",
    "        epsabs=1e-10,\n",
    "        epsrel=1e-10\n",
    "    )\n",
    "    return 2 * pi * result\n",
    "\n",
    "def V_total(r, theta, R):\n",
    "    rA = np.sqrt(r**2 + (R/2)**2 - r*R*np.cos(theta))  # distance to nucleus A\n",
    "    rB = np.sqrt(r**2 + (R/2)**2 + r*R*np.cos(theta))  # distance to nucleus B\n",
    "    return -1 / rA - 1 / rB\n",
    "\n",
    "def t_integral(R):\n",
    "    def integrand(theta, r):\n",
    "        r1 = np.sqrt(r**2 + R**2 - 2*r*R*np.cos(theta))\n",
    "        r2 = np.sqrt(r**2 + R**2 + 2*r*R*np.cos(theta))\n",
    "        V = V_total(r, theta, R)\n",
    "        return psi_1s(r1) * V * psi_1s(r2) * np.sin(theta) * r**2\n",
    "    result, _ = dblquad(integrand, 0, np.inf, lambda r: 0, lambda r: np.pi)\n",
    "    return 2 * np.pi * result\n",
    "\n",
    "\n",
    "R = 1.4\n",
    "s = full_overlap_integral(R)\n",
    "t = t_integral(R)\n",
    "epsilon = -1.0  # Hartree\n",
    "s,t"
   ]
  },
  {
   "cell_type": "code",
   "execution_count": 7,
   "id": "9ceb7c78",
   "metadata": {},
   "outputs": [
    {
     "name": "stdout",
     "output_type": "stream",
     "text": [
      "Integral should be ≈ 1: 0.9999546000702375\n"
     ]
    }
   ],
   "source": [
    "from scipy.integrate import quad\n",
    "import numpy as np\n",
    "\n",
    "def f(x):\n",
    "    return np.exp(-x)\n",
    "\n",
    "result, _ = quad(f, 0, 10)\n",
    "print(\"Integral should be ≈ 1:\", result)\n"
   ]
  },
  {
   "cell_type": "code",
   "execution_count": 6,
   "id": "1af7039b",
   "metadata": {},
   "outputs": [
    {
     "data": {
      "text/plain": [
       "0.1907106992242572"
      ]
     },
     "execution_count": 6,
     "metadata": {},
     "output_type": "execute_result"
    }
   ],
   "source": [
    "R = 1.4\n",
    "s = full_overlap_integral(R)\n",
    "t = t_integral(R)\n",
    "epsilon = -1.0  # Hartree\n",
    "s"
   ]
  },
  {
   "cell_type": "markdown",
   "id": "fb6c9d8b",
   "metadata": {},
   "source": [
    "### MO Theory Schrodinger Equation\n",
    "\n",
    "Now that we have gotten our coefficients required for the Hamiltonian matrix, we can write: $$\\hat{H} \\mathbf{\\Psi}=E\\mathbf{\\Psi}$$\n",
    "And $$\\hat{H}\\psi=ES\\psi$$\n",
    "In terms of basis functions.\n",
    "\n",
    "$$\\begin{bmatrix}\n",
    "\\epsilon & t \\\\\n",
    "t & \\epsilon\n",
    "\\end{bmatrix}\\begin{bmatrix}\n",
    "\\psi_{A} \\\\\n",
    "\\psi_{B}\n",
    "\\end{bmatrix}=E\\begin{bmatrix}\n",
    "1 & s \\\\\n",
    " s& 1\n",
    "\\end{bmatrix}\\begin{bmatrix}\n",
    "\\psi_{A} \\\\\n",
    "\\psi_{B}\n",
    "\\end{bmatrix}$$\n",
    "Now this has become the eigenvalue problem, so we can easily solve this,\n"
   ]
  },
  {
   "cell_type": "code",
   "execution_count": 8,
   "id": "562be5e3",
   "metadata": {},
   "outputs": [],
   "source": [
    "main_diag=epsilon*np.ones(2)\n",
    "off_diag=t*np.ones(1)\n",
    "off_diag_s=s*np.ones(1)\n",
    "H=np.diag(main_diag) + np.diag(off_diag, k=1) + np.diag(off_diag, k=-1)\n",
    "\n",
    "S=np.diag(np.ones(2)) + np.diag(off_diag_s, k=1) + np.diag(off_diag_s, k=-1)\n",
    "\n"
   ]
  },
  {
   "cell_type": "code",
   "execution_count": 9,
   "id": "e08c062a",
   "metadata": {},
   "outputs": [
    {
     "name": "stdout",
     "output_type": "stream",
     "text": [
      "Eigenvalues (Hartree): [-1.28690553 -0.5778747 ]\n",
      "Eigenvalues (eV): [-35.01850126 -15.72477958]\n"
     ]
    }
   ],
   "source": [
    "from scipy.linalg import eigh\n",
    "# Solve the generalized eigenvalue problem\n",
    "eigenvalues, eigenvectors = eigh(H, S)\n",
    "\n",
    "print(\"Eigenvalues (Hartree):\", eigenvalues)\n",
    "print(\"Eigenvalues (eV):\", eigenvalues * 27.2114)"
   ]
  },
  {
   "cell_type": "code",
   "execution_count": null,
   "id": "be151fde",
   "metadata": {},
   "outputs": [
    {
     "name": "stdout",
     "output_type": "stream",
     "text": [
      "0.3899947986829746\n"
     ]
    }
   ],
   "source": []
  },
  {
   "cell_type": "code",
   "execution_count": null,
   "id": "594a3d28",
   "metadata": {},
   "outputs": [
    {
     "name": "stdout",
     "output_type": "stream",
     "text": [
      "✅ True Overlap s = 0.752942  (Expected ≈ 0.198)\n"
     ]
    }
   ],
   "source": []
  },
  {
   "cell_type": "markdown",
   "id": "0cc6b768",
   "metadata": {},
   "source": []
  },
  {
   "cell_type": "markdown",
   "id": "10ecdeb2",
   "metadata": {},
   "source": [
    "# Afterwards"
   ]
  }
 ],
 "metadata": {
  "kernelspec": {
   "display_name": "base",
   "language": "python",
   "name": "python3"
  },
  "language_info": {
   "codemirror_mode": {
    "name": "ipython",
    "version": 3
   },
   "file_extension": ".py",
   "mimetype": "text/x-python",
   "name": "python",
   "nbconvert_exporter": "python",
   "pygments_lexer": "ipython3",
   "version": "3.11.8"
  }
 },
 "nbformat": 4,
 "nbformat_minor": 5
}
